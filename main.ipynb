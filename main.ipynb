{
 "cells": [
  {
   "cell_type": "code",
   "execution_count": 24,
   "id": "026fe890",
   "metadata": {},
   "outputs": [],
   "source": [
    "import numpy as np\n",
    "from game_to_simplex import game_to_simplex_table\n",
    "from simplex_method import simplex_method\n",
    "import game_to_simplex"
   ]
  },
  {
   "cell_type": "code",
   "execution_count": 25,
   "id": "9a2184d1",
   "metadata": {},
   "outputs": [
    {
     "name": "stdout",
     "output_type": "stream",
     "text": [
      "[[ 2.  5.  4.  1.]\n",
      " [ 7.  0.  6.  1.]\n",
      " [-1. -1. -1.  0.]]\n"
     ]
    }
   ],
   "source": [
    "A = np.array([[2, 5, 4], [7, 0, 6]])\n",
    "A = game_to_simplex_table(A)\n",
    "print(A)\n"
   ]
  },
  {
   "cell_type": "code",
   "execution_count": 26,
   "id": "d5132836",
   "metadata": {},
   "outputs": [
    {
     "name": "stdout",
     "output_type": "stream",
     "text": [
      "Tableau:\n",
      " [[-0.05714286  0.2         0.45714286  0.14285714]\n",
      " [ 0.14285714 -0.          0.85714286  0.14285714]\n",
      " [ 0.08571429  0.2         0.31428571  0.28571429]]\n",
      "\n",
      "Position of the variables: [5 4 3 2 1]\n"
     ]
    }
   ],
   "source": [
    "z = simplex_method(A) #return [0]=value table, [1]=position\n",
    "print(f\"Tableau:\\n {z[0]}\")\n",
    "print()\n",
    "print(f\"Position of the variables: {z[1]}\")"
   ]
  },
  {
   "cell_type": "code",
   "execution_count": 27,
   "id": "960fd5ea",
   "metadata": {
    "scrolled": true
   },
   "outputs": [
    {
     "name": "stdout",
     "output_type": "stream",
     "text": [
      "Game Value: 3.5\n",
      "Columns Prob: [[0.5 0.5 0. ]]\n",
      "Rows Prob: [[0.7 0.3]]\n"
     ]
    }
   ],
   "source": [
    "game_result = game_to_simplex.simplex_to_game_result(z[0], z[1]) #return [0]=game_value, [1]=column prob, [2]=row prob\n",
    "print(f\"Game Value: {game_result[0]}\")\n",
    "print(f\"Columns Prob: {game_result[1]}\")\n",
    "print(f\"Rows Prob: {game_result[2]}\")"
   ]
  },
  {
   "cell_type": "code",
   "execution_count": null,
   "id": "19dc789e",
   "metadata": {},
   "outputs": [],
   "source": []
  },
  {
   "cell_type": "code",
   "execution_count": null,
   "id": "80c48a1e",
   "metadata": {},
   "outputs": [],
   "source": []
  }
 ],
 "metadata": {
  "kernelspec": {
   "display_name": "ecocomp",
   "language": "python",
   "name": "ecocomp"
  },
  "language_info": {
   "codemirror_mode": {
    "name": "ipython",
    "version": 3
   },
   "file_extension": ".py",
   "mimetype": "text/x-python",
   "name": "python",
   "nbconvert_exporter": "python",
   "pygments_lexer": "ipython3",
   "version": "3.10.4"
  }
 },
 "nbformat": 4,
 "nbformat_minor": 5
}
